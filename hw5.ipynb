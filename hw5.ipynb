{
 "cells": [
  {
   "cell_type": "code",
   "execution_count": 9,
   "id": "2a5e6021-1061-4cf2-a99b-961f0ff6a5aa",
   "metadata": {},
   "outputs": [],
   "source": [
    "import gmpy2\n",
    "from gmpy2 import mpz"
   ]
  },
  {
   "cell_type": "code",
   "execution_count": 80,
   "id": "dbb426ab-be3d-49dd-9cdc-9a7d5871fadc",
   "metadata": {},
   "outputs": [],
   "source": [
    "p=mpz(13407807929942597099574024998205846127479365820592393377723561443721764030073546976801874298166903427690031858186486050853753882811946569946433649006084171)\n",
    "g=mpz(11717829880366207009516117596335367088558084999998952205599979459063929499736583746670572176471460312928594829675428279466566527115212748467589894601965568)\n",
    "h=mpz(3239475104050450443565264378728065788649097520952449527834792452971981976143292558073856937958553180532878928001494706097394108577585732452307673444020333)\n"
   ]
  },
  {
   "cell_type": "code",
   "execution_count": 137,
   "id": "4f679a6f-7ada-4aae-b1f1-148cc8c8c96f",
   "metadata": {},
   "outputs": [],
   "source": [
    "# First build a table for all values of the LHS, h * inv(g^x1, p) mod p for all values of x0.\n",
    "\n",
    "def solve(p, g, h, B = 1 << 20):\n",
    "    d = dict()\n",
    "    \n",
    "    for x1 in range(B):\n",
    "        key = gmpy2.mod(gmpy2.mul(h, gmpy2.invert(gmpy2.powmod(g, x1, p), p)), p) \n",
    "        d[key] = mpz(x1)\n",
    "        \n",
    "    for x0 in range(B):\n",
    "        key = gmpy2.powmod(g, gmpy2.mul(mpz(B), x0), p)\n",
    "        if key in d:\n",
    "            print(\"Found a solution!\", gmpy2.mul(x0, B) + d[key])\n",
    "    "
   ]
  },
  {
   "cell_type": "code",
   "execution_count": 138,
   "id": "6069aab5-0dda-402e-9ec4-b6249f20dcb3",
   "metadata": {},
   "outputs": [
    {
     "name": "stdout",
     "output_type": "stream",
     "text": [
      "Found a solution! 375374217830\n"
     ]
    }
   ],
   "source": [
    "solve(p, g, h)"
   ]
  },
  {
   "cell_type": "code",
   "execution_count": 139,
   "id": "df932302-a382-47b2-81af-81fc862d34e4",
   "metadata": {},
   "outputs": [
    {
     "data": {
      "text/plain": [
       "True"
      ]
     },
     "execution_count": 139,
     "metadata": {},
     "output_type": "execute_result"
    }
   ],
   "source": [
    "gmpy2.powmod(g, 375374217830, p) == h"
   ]
  }
 ],
 "metadata": {
  "kernelspec": {
   "display_name": "Python 3 (ipykernel)",
   "language": "python",
   "name": "python3"
  },
  "language_info": {
   "codemirror_mode": {
    "name": "ipython",
    "version": 3
   },
   "file_extension": ".py",
   "mimetype": "text/x-python",
   "name": "python",
   "nbconvert_exporter": "python",
   "pygments_lexer": "ipython3",
   "version": "3.9.6"
  }
 },
 "nbformat": 4,
 "nbformat_minor": 5
}
