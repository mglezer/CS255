{
 "cells": [
  {
   "cell_type": "code",
   "execution_count": 162,
   "id": "68060e6e-ae58-46b7-a0f4-c13ed4fde28a",
   "metadata": {},
   "outputs": [],
   "source": [
    "from cryptography.hazmat.primitives.ciphers import algorithms, modes, Cipher\n",
    "import common"
   ]
  },
  {
   "cell_type": "code",
   "execution_count": 163,
   "id": "e13bdf8c-bd61-480d-9db2-ca1a6ea0d496",
   "metadata": {},
   "outputs": [],
   "source": [
    "\n",
    "# The library seems to lack a raw AES function. Instead, we will use a Cipher object in\n",
    "# ECB mode to do AES decryption on each block, and then manually handle the details of\n",
    "# CBC mode ourselves.\n",
    "\n",
    "def aes_decrypt(key, block):\n",
    "    decryptor = Cipher(\n",
    "        algorithms.AES128(key),\n",
    "        modes.ECB(),\n",
    "    ).decryptor()\n",
    "    return decryptor.update(block) + decryptor.finalize()\n",
    "\n",
    "\n",
    "\n",
    "def aes_encrypt(key, block):\n",
    "    encryptor = Cipher(\n",
    "        algorithms.AES128(key),\n",
    "        modes.ECB(),\n",
    "    ).encryptor()\n",
    "    return encryptor.update(block) + encryptor.finalize()"
   ]
  },
  {
   "cell_type": "code",
   "execution_count": 164,
   "id": "33f68766-3405-46fa-9715-d8255ec9dc12",
   "metadata": {},
   "outputs": [],
   "source": [
    "def decrypt_aes_cbc_block(ctext_prev, ctext, key):\n",
    "    return bytes([b1 ^ b2 for b1, b2 in zip(aes_decrypt(key, ctext), ctext_prev)])\n",
    "def decrypt_aes_cbc(ciphertext, key):\n",
    "    blocks_w_padding = [decrypt_aes_cbc_block(ciphertext[i:i+16], ciphertext[i+16:i+32], key)\n",
    "     for i in range(0, len(ciphertext) - 32 + 1, 16)]\n",
    "    # the last character of the last block will tell us how much padding there is.\n",
    "    padding = int(blocks_w_padding[-1][-1])\n",
    "    print(\"Padding: \", padding)\n",
    "    # Concatenate \n",
    "    return bytes([\n",
    "        byte for bytes in blocks_w_padding[:-1] + [blocks_w_padding[-1][:-padding]]\n",
    "        for byte in bytes])"
   ]
  },
  {
   "cell_type": "code",
   "execution_count": 165,
   "id": "24381c52-b106-4a3e-b4bb-b85a1bed9fbb",
   "metadata": {},
   "outputs": [],
   "source": [
    "def decrypt_aes_ctr_block(block, block_num, key, iv):\n",
    "    pad = aes_encrypt(key, ((int.from_bytes(iv, \"big\") + block_num) % (1 << 128)).to_bytes(16, \"big\"))\n",
    "    return bytes([ctext ^ p for ctext, p in zip(block, pad)])\n",
    "    \n",
    "def decrypt_aes_ctr(ciphertext, key):\n",
    "    # Peel off the IV from the beginning of the ciphertext.\n",
    "    iv, ciphertext = ciphertext[:16], ciphertext[16:]\n",
    "    # Split the ciphertext into 16-byte blocks.\n",
    "    blocks_enc = [ciphertext[i:i+16] for i in range(0, len(ciphertext), 16)]\n",
    "    return bytes([byte for block, block_num in zip(blocks_enc, range(len(blocks_enc))) for byte in decrypt_aes_ctr_block(block, block_num, key, iv)])\n"
   ]
  },
  {
   "cell_type": "markdown",
   "id": "14cc5af6-9fd0-4365-bf15-94cb3817f6d9",
   "metadata": {},
   "source": [
    "## Problem 1"
   ]
  },
  {
   "cell_type": "code",
   "execution_count": 166,
   "id": "c1b11668-ec41-4cdd-be4e-72c5edc76065",
   "metadata": {},
   "outputs": [
    {
     "name": "stdout",
     "output_type": "stream",
     "text": [
      "Padding:  8\n"
     ]
    },
    {
     "data": {
      "text/plain": [
       "b'Basic CBC mode encryption needs padding.'"
      ]
     },
     "execution_count": 166,
     "metadata": {},
     "output_type": "execute_result"
    }
   ],
   "source": [
    "key = bytes.fromhex(\"140b41b22a29beb4061bda66b6747e14\")\n",
    "ciphertext = bytes.fromhex(\"4ca00ff4c898d61e1edbf1800618fb2828a226d160dad07883d04e008a7897ee2e4b7465d5290d0c0e6c6822236e1daafb94ffe0c5da05d9476be028ad7c1d81\")\n",
    "decrypt_aes_cbc(ciphertext, key)"
   ]
  },
  {
   "cell_type": "code",
   "execution_count": 167,
   "id": "2ffaccf6-d804-4a23-9093-76f55307dd8c",
   "metadata": {},
   "outputs": [
    {
     "data": {
      "text/plain": [
       "b'Basic CBC mode encryption needs padding.\\x08\\x08\\x08\\x08\\x08\\x08\\x08\\x08'"
      ]
     },
     "execution_count": 167,
     "metadata": {},
     "output_type": "execute_result"
    }
   ],
   "source": [
    "# Check our work using the normal end-to-end decryption.\n",
    "\n",
    "decryptor = Cipher(\n",
    "        algorithms.AES128(key),\n",
    "        modes.CBC(ciphertext[:16])\n",
    "    ).decryptor()\n",
    "decryptor.update(ciphertext[16:]) + decryptor.finalize()"
   ]
  },
  {
   "cell_type": "markdown",
   "id": "2744f5cf-3b71-4891-8260-004a4503db09",
   "metadata": {},
   "source": [
    "## Problem 2"
   ]
  },
  {
   "cell_type": "code",
   "execution_count": 171,
   "id": "fe42cca2-53a8-43e7-a3dc-745c39133a9f",
   "metadata": {},
   "outputs": [
    {
     "name": "stdout",
     "output_type": "stream",
     "text": [
      "Padding:  16\n"
     ]
    },
    {
     "data": {
      "text/plain": [
       "b'Our implementation uses rand. IV'"
      ]
     },
     "execution_count": 171,
     "metadata": {},
     "output_type": "execute_result"
    }
   ],
   "source": [
    "key = bytes.fromhex(\"140b41b22a29beb4061bda66b6747e14\")\n",
    "ciphertext = bytes.fromhex(\"5b68629feb8606f9a6667670b75b38a5b4832d0f26e1ab7da33249de7d4afc48e713ac646ace36e872ad5fb8a512428a6e21364b0c374df45503473c5242a253\")\n",
    "decrypt_aes_cbc(ciphertext, key)"
   ]
  },
  {
   "cell_type": "code",
   "execution_count": 172,
   "id": "d608f6c7-8a08-48c7-b93b-74b258a8037f",
   "metadata": {},
   "outputs": [
    {
     "data": {
      "text/plain": [
       "b'Our implementation uses rand. IV\\x10\\x10\\x10\\x10\\x10\\x10\\x10\\x10\\x10\\x10\\x10\\x10\\x10\\x10\\x10\\x10'"
      ]
     },
     "execution_count": 172,
     "metadata": {},
     "output_type": "execute_result"
    }
   ],
   "source": [
    "# Check our work using the normal end-to-end decryption.\n",
    "\n",
    "decryptor = Cipher(\n",
    "        algorithms.AES128(key),\n",
    "        modes.CBC(ciphertext[:16])\n",
    "    ).decryptor()\n",
    "decryptor.update(ciphertext[16:]) + decryptor.finalize()"
   ]
  },
  {
   "cell_type": "markdown",
   "id": "0e502dd8-f496-4161-a81e-b6e0ce4b0d79",
   "metadata": {},
   "source": [
    "## Problem 3"
   ]
  },
  {
   "cell_type": "code",
   "execution_count": 169,
   "id": "2337e592-188b-4fd8-a016-b630289de33b",
   "metadata": {},
   "outputs": [
    {
     "data": {
      "text/plain": [
       "b'CTR mode lets you build a stream cipher from a block cipher.'"
      ]
     },
     "execution_count": 169,
     "metadata": {},
     "output_type": "execute_result"
    }
   ],
   "source": [
    "key = bytes.fromhex(\"36f18357be4dbd77f050515c73fcf9f2\")\n",
    "ciphertext = bytes.fromhex(\"69dda8455c7dd4254bf353b773304eec0ec7702330098ce7f7520d1cbbb20fc388d1b0adb5054dbd7370849dbf0b88d393f252e764f1f5f7ad97ef79d59ce29f5f51eeca32eabedd9afa9329\")\n",
    "decrypt_aes_ctr(ciphertext, key)"
   ]
  },
  {
   "cell_type": "code",
   "execution_count": 170,
   "id": "1aa2096e-3ca3-4728-957a-016470859cc6",
   "metadata": {},
   "outputs": [
    {
     "data": {
      "text/plain": [
       "b'Always avoid the two time pad!'"
      ]
     },
     "execution_count": 170,
     "metadata": {},
     "output_type": "execute_result"
    }
   ],
   "source": [
    "key = bytes.fromhex(\"36f18357be4dbd77f050515c73fcf9f2\")\n",
    "ciphertext = bytes.fromhex(\"770b80259ec33beb2561358a9f2dc617e46218c0a53cbeca695ae45faa8952aa0e311bde9d4e01726d3184c34451\")\n",
    "decrypt_aes_ctr(ciphertext, key)"
   ]
  },
  {
   "cell_type": "code",
   "execution_count": null,
   "id": "a3de2caa-e259-4a3f-9caf-d05b198ca138",
   "metadata": {},
   "outputs": [],
   "source": []
  }
 ],
 "metadata": {
  "kernelspec": {
   "display_name": "Python 3 (ipykernel)",
   "language": "python",
   "name": "python3"
  },
  "language_info": {
   "codemirror_mode": {
    "name": "ipython",
    "version": 3
   },
   "file_extension": ".py",
   "mimetype": "text/x-python",
   "name": "python",
   "nbconvert_exporter": "python",
   "pygments_lexer": "ipython3",
   "version": "3.9.6"
  }
 },
 "nbformat": 4,
 "nbformat_minor": 5
}
