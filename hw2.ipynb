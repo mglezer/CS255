{
 "cells": [
  {
   "cell_type": "code",
   "execution_count": 1,
   "id": "68060e6e-ae58-46b7-a0f4-c13ed4fde28a",
   "metadata": {},
   "outputs": [],
   "source": [
    "from cryptography.hazmat.primitives.ciphers import algorithms\n",
    "import common"
   ]
  },
  {
   "cell_type": "markdown",
   "id": "14cc5af6-9fd0-4365-bf15-94cb3817f6d9",
   "metadata": {},
   "source": [
    "## Problem 1"
   ]
  },
  {
   "cell_type": "code",
   "execution_count": 2,
   "id": "e13bdf8c-bd61-480d-9db2-ca1a6ea0d496",
   "metadata": {},
   "outputs": [
    {
     "data": {
      "text/plain": [
       "[20, 11, 65, 178, 42, 41, 190, 180, 6, 27, 218, 102, 182, 116, 126, 20]"
      ]
     },
     "execution_count": 2,
     "metadata": {},
     "output_type": "execute_result"
    }
   ],
   "source": [
    "key = \"140b41b22a29beb4061bda66b6747e14\"\n",
    "common.hex_str_to_bytes(key)"
   ]
  },
  {
   "cell_type": "code",
   "execution_count": null,
   "id": "c1b11668-ec41-4cdd-be4e-72c5edc76065",
   "metadata": {},
   "outputs": [],
   "source": []
  }
 ],
 "metadata": {
  "kernelspec": {
   "display_name": "Python 3 (ipykernel)",
   "language": "python",
   "name": "python3"
  },
  "language_info": {
   "codemirror_mode": {
    "name": "ipython",
    "version": 3
   },
   "file_extension": ".py",
   "mimetype": "text/x-python",
   "name": "python",
   "nbconvert_exporter": "python",
   "pygments_lexer": "ipython3",
   "version": "3.9.6"
  }
 },
 "nbformat": 4,
 "nbformat_minor": 5
}
