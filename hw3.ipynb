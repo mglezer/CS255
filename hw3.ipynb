{
 "cells": [
  {
   "cell_type": "code",
   "execution_count": 55,
   "id": "23824445-7a23-43d8-9e97-36d08c016152",
   "metadata": {},
   "outputs": [],
   "source": [
    "from cryptography.hazmat.primitives import hashes\n",
    "import common"
   ]
  },
  {
   "cell_type": "code",
   "execution_count": 86,
   "id": "a6775428-b915-4a05-85ca-d5313a9971a4",
   "metadata": {},
   "outputs": [],
   "source": [
    "block_size = 1024\n",
    "\n",
    "def sha_256(prev_block, prev_hash):\n",
    "    digest = hashes.Hash(hashes.SHA256())\n",
    "    digest.update(prev_block)\n",
    "    digest.update(prev_hash)\n",
    "    return digest.finalize()\n",
    "\n",
    "def hash_file(byte_array):\n",
    "    # break the file into 1024 byte blocks.\n",
    "    blocks = [byte_array[i:i+block_size] for i in range(0, max(len(byte_array), 1), block_size)]\n",
    "    prev_block = blocks[-1]\n",
    "    prev_hash = bytes()\n",
    "    for i in reversed(range(0, len(blocks) - 1)):\n",
    "        prev_hash = sha_256(prev_block, prev_hash)\n",
    "        prev_block = blocks[i]\n",
    "    return sha_256(prev_block, prev_hash).hex()"
   ]
  },
  {
   "cell_type": "markdown",
   "id": "987ca385-02d2-43db-b208-432ddf565d6e",
   "metadata": {},
   "source": [
    "## Verify"
   ]
  },
  {
   "cell_type": "code",
   "execution_count": 89,
   "id": "ab6011d6-eb8d-4934-9276-d065d6c873a4",
   "metadata": {},
   "outputs": [
    {
     "data": {
      "text/plain": [
       "'03c08f4ee0b576fe319338139c045c89c3e8e9409633bea29442e21425006ea8'"
      ]
     },
     "execution_count": 89,
     "metadata": {},
     "output_type": "execute_result"
    }
   ],
   "source": [
    "in_file = open(\"/Users/mathanglezer/Downloads/6.2.birthday.mp4_download\", \"rb\")\n",
    "data = in_file.read()\n",
    "in_file.close()\n",
    "hash_file(data)\n"
   ]
  },
  {
   "cell_type": "markdown",
   "id": "fbf42743-b0f3-4e77-a61f-f3ac2b84b27c",
   "metadata": {},
   "source": [
    "## Solve"
   ]
  },
  {
   "cell_type": "code",
   "execution_count": 91,
   "id": "7cd33830-54d5-4c1e-b879-8b8fe305cbd2",
   "metadata": {},
   "outputs": [
    {
     "data": {
      "text/plain": [
       "'5b96aece304a1422224f9a41b228416028f9ba26b0d1058f400200f06a589949'"
      ]
     },
     "execution_count": 91,
     "metadata": {},
     "output_type": "execute_result"
    }
   ],
   "source": [
    "in_file = open(\"/Users/mathanglezer/Downloads/6.1.intro.mp4_download\", \"rb\")\n",
    "data = in_file.read()\n",
    "in_file.close()\n",
    "hash_file(data)"
   ]
  },
  {
   "cell_type": "code",
   "execution_count": null,
   "id": "c0bee7da-82b4-445b-9263-f9182112350e",
   "metadata": {},
   "outputs": [],
   "source": []
  }
 ],
 "metadata": {
  "kernelspec": {
   "display_name": "Python 3 (ipykernel)",
   "language": "python",
   "name": "python3"
  },
  "language_info": {
   "codemirror_mode": {
    "name": "ipython",
    "version": 3
   },
   "file_extension": ".py",
   "mimetype": "text/x-python",
   "name": "python",
   "nbconvert_exporter": "python",
   "pygments_lexer": "ipython3",
   "version": "3.9.6"
  }
 },
 "nbformat": 4,
 "nbformat_minor": 5
}
